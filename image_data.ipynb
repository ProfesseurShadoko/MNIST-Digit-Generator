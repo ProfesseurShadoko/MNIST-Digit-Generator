{
 "cells": [
  {
   "cell_type": "markdown",
   "id": "2d23c772",
   "metadata": {},
   "source": [
    "# MNIST dataset\n",
    "\n",
    "Let's first try to take a look at how the data looks like. How can I access the images, plot them, and so on. We will use the functions from `tensorflow` and try to understand what they do. We will try to stay as much as possible in the tensor level, and avoid switching to pandas or numpy too much.\n",
    "\n",
    "On that note, let's start with a `torch` tutorial on tensors and other usefull functions, tools, structures."
   ]
  },
  {
   "cell_type": "code",
   "execution_count": 1,
   "id": "0b6613d6",
   "metadata": {},
   "outputs": [
    {
     "name": "stdout",
     "output_type": "stream",
     "text": [
      "fatal: destination path 'fancy_package' already exists and is not an empty directory.\n"
     ]
    }
   ],
   "source": [
    "!git clone https://github.com/ProfesseurShadoko/fancy_package.git"
   ]
  },
  {
   "cell_type": "markdown",
   "id": "cb17d06b",
   "metadata": {},
   "source": [
    "## Torch Tensor Tutorial\n",
    "\n",
    "Let's start with tensors, the core of every neural network library."
   ]
  },
  {
   "cell_type": "code",
   "execution_count": 2,
   "id": "bb26d236",
   "metadata": {},
   "outputs": [],
   "source": [
    "import torch\n",
    "# from torchvision import datasets, transforms # not compatible with Python 3.13\n",
    "import matplotlib.pyplot as plt\n",
    "import numpy as np\n",
    "import pandas as pd\n",
    "from fancy_package import *"
   ]
  },
  {
   "cell_type": "markdown",
   "id": "2997ca05",
   "metadata": {},
   "source": [
    "### Tensor creation"
   ]
  },
  {
   "cell_type": "code",
   "execution_count": 3,
   "id": "05962e1d",
   "metadata": {},
   "outputs": [
    {
     "name": "stdout",
     "output_type": "stream",
     "text": [
      "tensor([[1., 2.],\n",
      "        [3., 4.],\n",
      "        [5., 6.]])\n",
      "\u001b[96m[i]\u001b[0m Looking at tensor properties\n",
      " > \u001b[96m[i]\u001b[0m Shape: torch.Size([3, 2])\n",
      " > \u001b[96m[i]\u001b[0m Size: torch.Size([3, 2])\n",
      " > \u001b[96m[i]\u001b[0m Number of dimensions: 2\n"
     ]
    }
   ],
   "source": [
    "t =torch.tensor(\n",
    "    [[1, 2], [3, 4], [5, 6]], dtype = torch.float32\n",
    ")\n",
    "t_rand = torch.rand((4, 3))\n",
    "t_zeros = torch.zeros((2, 3))\n",
    "t_ones = torch.ones((2, 3))\n",
    "t_eye = torch.eye(3)\n",
    "t_arange = torch.arange(0, 10, 2)\n",
    "t_linspace = torch.linspace(0, 1, 5)\n",
    "t_normal = torch.normal(mean=0, std=1, size=(2, 3))\n",
    "t_numpy = torch.from_numpy(np.array([[1, 2], [3, 4], [5, 8]]))\n",
    "\n",
    "t_look = t\n",
    "print(t_look)\n",
    "with Message(\"Looking at tensor properties\").tab():\n",
    "    Message(f\"Shape: {t_look.shape}\")\n",
    "    Message(f\"Size: {t_look.size()}\")\n",
    "    Message(f\"Number of dimensions: {t_look.ndim}\")\n"
   ]
  },
  {
   "cell_type": "markdown",
   "id": "cdf53632",
   "metadata": {},
   "source": [
    "### Basic operations"
   ]
  },
  {
   "cell_type": "code",
   "execution_count": 4,
   "id": "91b03aa2",
   "metadata": {},
   "outputs": [
    {
     "name": "stdout",
     "output_type": "stream",
     "text": [
      "Shape of x: torch.Size([3, 1])\n",
      "\u001b[96m[i]\u001b[0m Addition\n",
      "\u001b[96m[i]\u001b[0m Substraction\n",
      "\u001b[96m[i]\u001b[0m Multiplication\n",
      "\u001b[96m[i]\u001b[0m Dot product\n",
      "tensor([[-6.]])\n",
      "tensor([[ 0.0000, -3.0000,  0.5000],\n",
      "        [ 0.0000, -6.0000,  1.0000],\n",
      "        [ 0.0000, -0.0000,  0.0000]])\n",
      "\u001b[96m[i]\u001b[0m Matrix multiplication\n",
      "tensor([[ 1.],\n",
      "        [ 4.],\n",
      "        [-5.]])\n",
      "\u001b[96m[i]\u001b[0m Summation\n",
      "tensor(4.)\n",
      "tensor([ 6., -3.,  1.])\n"
     ]
    }
   ],
   "source": [
    "x = torch.tensor([1.0, 2.0, 0.0], dtype=torch.float32)\n",
    "y = torch.tensor([0.0, -3.0, 0.5], dtype=torch.float32)\n",
    "\n",
    "# let's make x and y column vectors\n",
    "x = x.view(-1, 1) # what does view do? => you put in arguments the desired shape (-1 tells torch to guess the size of this dimension)\n",
    "y = y.view(-1, 1)\n",
    "\n",
    "print(\"Shape of x:\", x.shape)\n",
    "\n",
    "M = torch.tensor([\n",
    "    [1.0, 0, 0],\n",
    "    [2.0, 1.0, 0],\n",
    "    [3.0, -4.0, 1.0]\n",
    "], dtype=torch.float32)\n",
    "\n",
    "Message(\"Addition\")\n",
    "s = x+y\n",
    "\n",
    "Message(\"Substraction\")\n",
    "d = x-y\n",
    "\n",
    "Message(\"Multiplication\")\n",
    "m = x*y\n",
    "\n",
    "Message(\"Dot product\")\n",
    "# dp = torch.dot(x, y) # does not work\n",
    "dp = x.T @ y\n",
    "print(dp)\n",
    "outter = x @ y.T\n",
    "print(outter)\n",
    "\n",
    "Message(\"Matrix multiplication\")\n",
    "x2 = M @ x\n",
    "print(x2)\n",
    "\n",
    "Message(\"Summation\")\n",
    "s = torch.sum(M)\n",
    "print(s)\n",
    "s = torch.sum(M, dim=0) # sum along the columns (the dimension 0)\n",
    "print(s)"
   ]
  },
  {
   "cell_type": "markdown",
   "id": "e92b07fd",
   "metadata": {},
   "source": [
    "### Reshaping"
   ]
  },
  {
   "cell_type": "code",
   "execution_count": 19,
   "id": "8a780f9d",
   "metadata": {},
   "outputs": [
    {
     "name": "stdout",
     "output_type": "stream",
     "text": [
      "\u001b[96m[i]\u001b[0m Initializing a 2D tensor\n",
      "tensor([[ 0.1528,  0.8087, -0.9351],\n",
      "        [ 0.0621,  1.7929,  1.5857]]) --> torch.Size([2, 3])\n",
      "\u001b[96m[i]\u001b[0m Taking transpose\n",
      "tensor([[ 0.1528,  0.0621],\n",
      "        [ 0.8087,  1.7929],\n",
      "        [-0.9351,  1.5857]]) --> torch.Size([3, 2])\n",
      "\u001b[96m[i]\u001b[0m Reshaping\n",
      "tensor([[ 0.1528,  0.8087],\n",
      "        [-0.9351,  0.0621],\n",
      "        [ 1.7929,  1.5857]]) --> torch.Size([3, 2])\n",
      "\u001b[96m[i]\u001b[0m Flattening\n",
      "tensor([ 0.1528,  0.8087, -0.9351,  0.0621,  1.7929,  1.5857]) --> torch.Size([6])\n",
      "\u001b[96m[i]\u001b[0m Adding one dimension\n",
      "tensor([[[ 0.1528,  0.8087, -0.9351],\n",
      "         [ 0.0621,  1.7929,  1.5857]]]) --> torch.Size([1, 2, 3])\n",
      "\u001b[96m[i]\u001b[0m Removing one dimension\n",
      "tensor([[ 0.1528,  0.8087, -0.9351],\n",
      "        [ 0.0621,  1.7929,  1.5857]]) --> torch.Size([2, 3])\n",
      "\u001b[96m[i]\u001b[0m Expanding a tensor\n",
      "tensor([[1, 1, 1],\n",
      "        [2, 2, 2],\n",
      "        [3, 3, 3]]) --> torch.Size([3, 3])\n"
     ]
    }
   ],
   "source": [
    "Message(\"Initializing a 2D tensor\")\n",
    "x = torch.randn(2, 3)\n",
    "print(x, x.shape, sep = \" --> \")\n",
    "\n",
    "Message(\"Taking transpose\")\n",
    "x_transpose = x.T\n",
    "print(x_transpose, x_transpose.shape, sep = \" --> \")\n",
    "\n",
    "Message(\"Reshaping\")\n",
    "x_reshaped = x.view(3, 2)\n",
    "print(x_reshaped, x_reshaped.shape, sep = \" --> \")\n",
    "\n",
    "Message(\"Flattening\")\n",
    "x_flattened = x.view(-1)\n",
    "print(x_flattened, x_flattened.shape, sep = \" --> \")\n",
    "\n",
    "Message(\"Adding one dimension\")\n",
    "x_unsqueezed = x.unsqueeze(0) # same as x.view(1, 2, 3)\n",
    "print(x_unsqueezed, x_unsqueezed.shape, sep = \" --> \")\n",
    "\n",
    "Message(\"Removing one dimension\")\n",
    "x_squeezed = x_unsqueezed.squeeze(0) # same as x.view(2, 3)\n",
    "print(x_squeezed, x_squeezed.shape, sep = \" --> \")\n",
    "\n",
    "Message(\"Expanding a tensor\")\n",
    "x_base = torch.tensor([1, 2, 3])\n",
    "x_base_column = x_base.view(-1, 1)\n",
    "x_base_expanded = x_base_column.expand(-1, 3) # -1 means \"keep the same size\"\n",
    "print(x_base_expanded, x_base_expanded.shape, sep = \" --> \")"
   ]
  },
  {
   "cell_type": "code",
   "execution_count": 20,
   "id": "f7535e57",
   "metadata": {},
   "outputs": [
    {
     "name": "stdout",
     "output_type": "stream",
     "text": [
      "tensor([[0, 1, 2],\n",
      "        [3, 4, 5],\n",
      "        [6, 7, 8]]) --> torch.Size([3, 3])\n",
      "tensor([[[0, 1, 2],\n",
      "         [3, 4, 5],\n",
      "         [6, 7, 8]],\n",
      "\n",
      "        [[0, 1, 2],\n",
      "         [3, 4, 5],\n",
      "         [6, 7, 8]]]) --> torch.Size([2, 3, 3])\n"
     ]
    }
   ],
   "source": [
    "x = torch.arange(9).reshape(3, 3) # similar to view, it is all about copying or not I think\n",
    "print(x, x.shape, sep = \" --> \")\n",
    "\n",
    "x_repeated = x.unsqueeze(0) # add 1 dimesion\n",
    "x_repeated = x_repeated.expand(2, -1, -1) # expand the first dimension\n",
    "\n",
    "print(x_repeated, x_repeated.shape, sep = \" --> \")"
   ]
  },
  {
   "cell_type": "markdown",
   "id": "39ebaddd",
   "metadata": {},
   "source": [
    "### Broadcasting\n",
    "\n",
    "This here is super important, it is used all the time in models."
   ]
  },
  {
   "cell_type": "code",
   "execution_count": 26,
   "id": "87e651ca",
   "metadata": {},
   "outputs": [
    {
     "name": "stdout",
     "output_type": "stream",
     "text": [
      "tensor([[ 0, 10, 20],\n",
      "        [ 1, 11, 21],\n",
      "        [ 2, 12, 22]]) --> torch.Size([3, 3])\n"
     ]
    }
   ],
   "source": [
    "x = torch.arange(3).reshape(3, 1) # column\n",
    "y = torch.arange(0, 30, 10) # row\n",
    "braodcasted_sum = x + y # the two tensors are not the same shape, but they can be added because of broadcasting\n",
    "print(braodcasted_sum, braodcasted_sum.shape, sep = \" --> \")"
   ]
  },
  {
   "cell_type": "markdown",
   "id": "03c22314",
   "metadata": {},
   "source": [
    "Then you also have many math functions (exponential, sigmoid, tanh, relo, clamp to clip between values...). I will skip the comments of ChatGPT about cloning or CPU/GPU stuff.\n",
    "\n",
    "### Tensor visualization"
   ]
  },
  {
   "cell_type": "code",
   "execution_count": 37,
   "id": "1cde0155",
   "metadata": {},
   "outputs": [
    {
     "data": {
      "image/png": "[encoded data removed]",
      "text/plain": [
       "<Figure size 500x500 with 1 Axes>"
      ]
     },
     "metadata": {},
     "output_type": "display_data"
    },
    {
     "data": {
      "image/png": "[encoded data removed]",
      "text/plain": [
       "<Figure size 500x500 with 1 Axes>"
      ]
     },
     "metadata": {},
     "output_type": "display_data"
    }
   ],
   "source": [
    "xgraident = torch.arange(0, 255, 255//9).view(-1, 1) # column\n",
    "ygradient = torch.arange(0, 255, 255//9)\n",
    "image = xgraident + ygradient # the two tensors are not the same shape, but they can be added because of broadcasting\n",
    "\n",
    "# use plt.imshow\n",
    "plt.figure(figsize=(5, 5))\n",
    "plt.imshow(image, cmap='gray')\n",
    "plt.xlabel(\"x (when going right,\\ncolor should get brighter)\")\n",
    "plt.ylabel(\"y (when going down,\\n color should get brighter)\\n(imshow origin is up left)\")\n",
    "plt.title(\"Image\")\n",
    "\n",
    "# use plt.colormesh\n",
    "plt.figure(figsize=(5, 5))\n",
    "plt.pcolormesh(image, cmap='gray')\n",
    "plt.xlabel(\"x (when going right,\\ncolor should get brighter)\")\n",
    "plt.ylabel(\"y (when going down,\\n color should get brighter)\\n(pcolormesh origin is down left)\")\n",
    "# cneter x and y ticks on labels\n",
    "plt.xticks(np.arange(0.5, 10.5, 1), np.arange(10))\n",
    "plt.yticks(np.arange(0.5, 10.5, 1), np.arange(10))\n",
    "plt.title(\"Image\")\n",
    "plt.show()"
   ]
  },
  {
   "cell_type": "markdown",
   "id": "ed0eb72a",
   "metadata": {},
   "source": [
    "### Gradient stuff"
   ]
  },
  {
   "cell_type": "code",
   "execution_count": 39,
   "id": "1c7f9d94",
   "metadata": {},
   "outputs": [
    {
     "name": "stdout",
     "output_type": "stream",
     "text": [
      "tensor([14.])\n"
     ]
    }
   ],
   "source": [
    "x = torch.tensor([2.0], requires_grad=True)\n",
    "y = x ** 3 + 2 * x\n",
    "y.backward() # compute the gradient of y with respect to x\n",
    "print(x.grad) # print the gradient of y with respect to x # dy/dx = 3x² + 2 = 3*4 + 2 = 14"
   ]
  },
  {
   "cell_type": "markdown",
   "id": "f56a3013",
   "metadata": {},
   "source": [
    "## MNIST data\n",
    "\n",
    "Let's load the data and take a look at it. The files are binary encoded (`*-ubiyte`). To read these binary bytes, we use the package `struct`."
   ]
  },
  {
   "cell_type": "code",
   "execution_count": 40,
   "id": "c3d06ee3",
   "metadata": {},
   "outputs": [
    {
     "data": {
      "text/plain": [
       "(2051,)"
      ]
     },
     "execution_count": 40,
     "metadata": {},
     "output_type": "execute_result"
    }
   ],
   "source": [
    "import struct\n",
    "bytesstring = b'\\x00\\x00\\x08\\x03' # 0x0803 = 8 * 256 + 3 * 1 = 2048 + 3 = 2051\n",
    "struct.unpack(\">I\", bytesstring) # >I means big-endian unsigned int\n"
   ]
  },
  {
   "cell_type": "markdown",
   "id": "1a704752",
   "metadata": {},
   "source": [
    "Let's read our files with that!"
   ]
  },
  {
   "cell_type": "code",
   "execution_count": 44,
   "id": "5c3c9561",
   "metadata": {},
   "outputs": [
    {
     "name": "stdout",
     "output_type": "stream",
     "text": [
      "\u001b[96m[i]\u001b[0m Loading 10000 images of size 28x28\n"
     ]
    }
   ],
   "source": [
    "path = \"data/t10k-images-idx3-ubyte\"\n",
    "\n",
    "with open(path, \"rb\") as f:\n",
    "    magic, num, rows, cols = struct.unpack(\">IIII\", f.read(16)) # magic is always 2051, it means 'image'\n",
    "    # then you have the number of images, the number of rows and the number of columns\n",
    "    # f.read(16) is simply the header of the file\n",
    "    Message(f\"Loading {num} images of size {rows}x{cols}\")\n",
    "    data = f.read()\n",
    "    images = torch.frombuffer(data, dtype=torch.uint8) # read the rest of the file\n",
    "    images = images.view(num, rows, cols) # reshape the data to (num, rows, cols)\n",
    "    images = images / 255.0 # normalize the data to [0, 1]"
   ]
  },
  {
   "cell_type": "code",
   "execution_count": 46,
   "id": "e8e45ceb",
   "metadata": {},
   "outputs": [
    {
     "data": {
      "text/plain": [
       "torch.Size([10000, 28, 28])"
      ]
     },
     "execution_count": 46,
     "metadata": {},
     "output_type": "execute_result"
    }
   ],
   "source": [
    "images.shape"
   ]
  },
  {
   "cell_type": "markdown",
   "id": "fa529d00",
   "metadata": {},
   "source": [
    "Let's plot one image!"
   ]
  },
  {
   "cell_type": "code",
   "execution_count": 49,
   "id": "a1386fa2",
   "metadata": {},
   "outputs": [
    {
     "data": {
      "image/png": "[encoded data removed]",
      "text/plain": [
       "<Figure size 300x300 with 1 Axes>"
      ]
     },
     "metadata": {},
     "output_type": "display_data"
    }
   ],
   "source": [
    "image = images[0] # take the first image\n",
    "plt.figure(figsize=(3, 3))\n",
    "plt.imshow(image, cmap='gray')\n",
    "plt.show()"
   ]
  },
  {
   "cell_type": "markdown",
   "id": "95da057f",
   "metadata": {},
   "source": [
    "## Torch Dataset\n",
    "\n",
    "According to ChatPGT, these datasets are very important when using `torch`. We will see what they do and how to use them. A `dataset` is a Pyton object that represents a collection of data samples. It must implement two methods: `__len__` and `__get_item__` who returns a tuple with the data (as a tensor) and the label(s). Let's make an example with the MNIST data that we have."
   ]
  },
  {
   "cell_type": "code",
   "execution_count": null,
   "id": "c318963a",
   "metadata": {},
   "outputs": [],
   "source": [
    "from torch.utils.data import Dataset, DataLoader\n",
    "\n",
    "class MNISTDataset(Dataset):\n",
    "    train_images_path = \"data/train-images-idx3-ubyte\"\n",
    "    train_labels_path = \"data/train-labels-idx1-ubyte\"\n",
    "    test_images_path = \"data/t10k-images-idx3-ubyte\"\n",
    "    test_labels_path = \"data/t10k-labels-idx1-ubyte\"\n",
    "    \n",
    "    @staticmethod\n",
    "    def load_images(path:str):\n",
    "        with open(path, \"rb\") as f:\n",
    "            magic, num, rows, cols = struct.unpack(\">IIII\", f.read(16))\n",
    "            data = f.read()\n",
    "            images = torch.frombuffer(data, dtype=torch.uint8)\n",
    "            images = images.view(num, rows, cols)\n",
    "            images = images / 255.0\n",
    "        return images\n",
    "    \n",
    "    @staticmethod\n",
    "    def load_labels(path:str):\n",
    "        with open(path, \"rb\") as f:\n",
    "            magic, num = struct.unpack(\">II\", f.read(8))\n",
    "            data = f.read()\n",
    "            labels = torch.frombuffer(data, dtype=torch.uint8)\n",
    "            labels = labels.view(num)\n",
    "        return labels\n",
    "    \n",
    "    def __init__(self, train:bool = True):\n",
    "        if train:\n",
    "            images_path = MNISTDataset.train_images_path\n",
    "            labels_path = MNISTDataset.train_labels_path\n",
    "        else:\n",
    "            images_path = MNISTDataset.test_images_path\n",
    "            labels_path = MNISTDataset.test_labels_path\n",
    "        \n",
    "        self.images = MNISTDataset.load_images(images_path)\n",
    "        self.labels = MNISTDataset.load_labels(labels_path)\n",
    "        \n",
    "    def __len__(self):\n",
    "        return len(self.images)\n",
    "    \n",
    "    def __getitem__(self, index:int):\n",
    "        return self.images[index], self.labels[index]\n",
    "    \n",
    "    def plot(self, idx:int = None):\n",
    "        if idx is None:\n",
    "            idx = np.random.randint(0, len(self.images))\n",
    "        image, label = self[idx]\n",
    "        plt.figure(figsize=(3, 3))\n",
    "        plt.imshow(image, cmap='gray')\n",
    "        plt.title(f\"Label: {label.item()}\")\n",
    "        plt.axis('off')\n",
    "        plt.show()"
   ]
  },
  {
   "cell_type": "code",
   "execution_count": 51,
   "id": "f2101ed3",
   "metadata": {},
   "outputs": [
    {
     "data": {
      "image/png": "[encoded data removed]",
      "text/plain": [
       "<Figure size 300x300 with 1 Axes>"
      ]
     },
     "metadata": {},
     "output_type": "display_data"
    }
   ],
   "source": [
    "train_dataset = MNISTDataset(train=True)\n",
    "train_dataset.plot()"
   ]
  },
  {
   "cell_type": "markdown",
   "id": "6c1b6929",
   "metadata": {},
   "source": [
    "Let's get an overview of how one should use these datasets."
   ]
  },
  {
   "cell_type": "code",
   "execution_count": 53,
   "id": "d6e686b4",
   "metadata": {},
   "outputs": [
    {
     "name": "stdout",
     "output_type": "stream",
     "text": [
      "torch.Size([64, 28, 28]) torch.Size([64])\n"
     ]
    }
   ],
   "source": [
    "train_loader = DataLoader(train_dataset, batch_size = 64, shuffle=True)\n",
    "\n",
    "for batch in train_loader:\n",
    "    images, labels = batch\n",
    "    print(images.shape, labels.shape) # (64, 28, 28) (64,)\n",
    "    break\n"
   ]
  },
  {
   "cell_type": "markdown",
   "id": "94944eee",
   "metadata": {},
   "source": [
    "So the whole idea here is to make the training faster. `DataLoader` and the batch stuff makes paralelization on CPUs and GPUs possible. Training also works better for some reason. Anyway..."
   ]
  }
 ],
 "metadata": {
  "kernelspec": {
   "display_name": "aiml",
   "language": "python",
   "name": "python3"
  },
  "language_info": {
   "codemirror_mode": {
    "name": "ipython",
    "version": 3
   },
   "file_extension": ".py",
   "mimetype": "text/x-python",
   "name": "python",
   "nbconvert_exporter": "python",
   "pygments_lexer": "ipython3",
   "version": "3.13.0"
  }
 },
 "nbformat": 4,
 "nbformat_minor": 5
}
